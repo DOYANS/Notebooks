{
 "cells": [
  {
   "cell_type": "markdown",
   "id": "bd464b37-04d1-4895-a454-cb60891174a7",
   "metadata": {},
   "source": [
    "stanford-crfm/BioMedLM"
   ]
  },
  {
   "cell_type": "code",
   "execution_count": 2,
   "id": "2d555a2a-d82b-4949-8132-0bebb0c17916",
   "metadata": {},
   "outputs": [],
   "source": [
    "from transformers import AutoTokenizer,AutoModelForCausalLM"
   ]
  },
  {
   "cell_type": "code",
   "execution_count": 3,
   "id": "3e82f103-350e-4f24-8c56-47bd5709c0e9",
   "metadata": {},
   "outputs": [],
   "source": [
    "MODEL = \"stanford-crfm/BioMedLM\""
   ]
  },
  {
   "cell_type": "code",
   "execution_count": 4,
   "id": "8bf16ef7-ae29-4e10-b09e-fcfa3e65a73f",
   "metadata": {},
   "outputs": [
    {
     "name": "stderr",
     "output_type": "stream",
     "text": [
      "\n",
      "KeyboardInterrupt\n",
      "\n"
     ]
    }
   ],
   "source": [
    "tokenizer = AutoTokenizer.from_pretrained(MODEL,device_map=\"auto\")\n",
    "model = AutoModelForCausalLM.from_pretrained(MODEL)\n",
    "\n",
    "def model_pipeline(input_text: str) -> str:\n",
    "    \"\"\"model output.\"\"\"\n",
    "    # prepare inputs\n",
    "    inputs = tokenizer(input_text, return_tensors='pt')\n",
    "\n",
    "    # forward pass\n",
    "    outputs = model(**inputs, labels=inputs[\"input_ids\"])\n",
    "    # loss = outputs.loss\n",
    "    # logits = outputs.logits\n",
    "\n",
    "    result = outputs.last_hidden_state\n",
    "\n",
    "    return  result"
   ]
  },
  {
   "cell_type": "code",
   "execution_count": null,
   "id": "d49323c0-16b1-4894-ac31-b97df8a08936",
   "metadata": {},
   "outputs": [],
   "source": []
  },
  {
   "cell_type": "code",
   "execution_count": null,
   "id": "3c85cde0-a5e1-4a03-988e-e4152577089c",
   "metadata": {},
   "outputs": [],
   "source": []
  }
 ],
 "metadata": {
  "kernelspec": {
   "display_name": "Python 3 (ipykernel)",
   "language": "python",
   "name": "python3"
  },
  "language_info": {
   "codemirror_mode": {
    "name": "ipython",
    "version": 3
   },
   "file_extension": ".py",
   "mimetype": "text/x-python",
   "name": "python",
   "nbconvert_exporter": "python",
   "pygments_lexer": "ipython3",
   "version": "3.11.7"
  }
 },
 "nbformat": 4,
 "nbformat_minor": 5
}
